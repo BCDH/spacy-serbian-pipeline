{
  "nbformat": 4,
  "nbformat_minor": 0,
  "metadata": {
    "colab": {
      "name": "Untitled5.ipynb",
      "provenance": []
    },
    "kernelspec": {
      "name": "python3",
      "display_name": "Python 3"
    }
  },
  "cells": [
    {
      "cell_type": "code",
      "metadata": {
        "id": "O2kGp9H9MOkD"
      },
      "source": [
        "!pip install spacy --upgrade"
      ],
      "execution_count": null,
      "outputs": []
    },
    {
      "cell_type": "code",
      "metadata": {
        "id": "9m1tA_MRM0dB"
      },
      "source": [
        "!spacy project clone tagger_parser_lookups_srp -r https://github.com/BCDH/spacy-serbian-pipeline/ -b binder"
      ],
      "execution_count": null,
      "outputs": []
    },
    {
      "cell_type": "code",
      "metadata": {
        "id": "7N9iezWXN7kY"
      },
      "source": [
        "%cd tagger_parser_lookups_srp\n",
        "!spacy project assets"
      ],
      "execution_count": null,
      "outputs": []
    },
    {
      "cell_type": "code",
      "metadata": {
        "id": "kVc5HZAgN9zA"
      },
      "source": [
        "!spacy project run all"
      ],
      "execution_count": null,
      "outputs": []
    },
    {
      "cell_type": "code",
      "metadata": {
        "id": "bclgoMCsO4IL"
      },
      "source": [
        "!spacy project run all"
      ],
      "execution_count": null,
      "outputs": []
    }
  ]
}