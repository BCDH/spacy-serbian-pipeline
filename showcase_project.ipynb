{
 "cells": [
  {
   "cell_type": "code",
   "execution_count": null,
   "metadata": {
    "id": "O2kGp9H9MOkD"
   },
   "outputs": [],
   "source": [
    "!pip install spacy --upgrade"
   ]
  },
  {
   "cell_type": "code",
   "execution_count": null,
   "metadata": {
    "id": "9m1tA_MRM0dB"
   },
   "outputs": [],
   "source": [
    "!spacy project clone tagger_parser_lookups_srp -r https://github.com/BCDH/spacy-serbian-pipeline/ -b binder"
   ]
  },
  {
   "cell_type": "code",
   "execution_count": null,
   "metadata": {
    "id": "7N9iezWXN7kY"
   },
   "outputs": [],
   "source": [
    "%cd tagger_parser_lookups_srp\n",
    "!spacy project assets"
   ]
  },
  {
   "cell_type": "code",
   "execution_count": null,
   "metadata": {
    "id": "kVc5HZAgN9zA"
   },
   "outputs": [],
   "source": [
    "!spacy project run all"
   ]
  },
  {
   "cell_type": "code",
   "execution_count": null,
   "metadata": {
    "id": "bclgoMCsO4IL"
   },
   "outputs": [],
   "source": [
    "!spacy project run test_examples"
   ]
  }
 ],
 "metadata": {
  "colab": {
   "name": "Untitled5.ipynb",
   "provenance": []
  },
  "kernelspec": {
   "display_name": "Python 3",
   "language": "python",
   "name": "python3"
  },
  "language_info": {
   "codemirror_mode": {
    "name": "ipython",
    "version": 3
   },
   "file_extension": ".py",
   "mimetype": "text/x-python",
   "name": "python",
   "nbconvert_exporter": "python",
   "pygments_lexer": "ipython3",
   "version": "3.8.6"
  }
 },
 "nbformat": 4,
 "nbformat_minor": 1
}
