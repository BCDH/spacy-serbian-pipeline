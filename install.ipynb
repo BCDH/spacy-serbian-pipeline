{
 "cells": [
  {
   "cell_type": "code",
   "execution_count": 83,
   "metadata": {},
   "outputs": [],
   "source": [
    "%load_ext autoreload\n",
    "%autoreload 2"
   ]
  },
  {
   "cell_type": "code",
   "execution_count": null,
   "metadata": {},
   "outputs": [],
   "source": [
    "!pip install spacy-nightly --pre\n",
    "\n",
    "# Installing lookups data...\n",
    "\n",
    "!git clone https://github.com/explosion/spacy-lookups-data.git\n",
    "\n",
    "!cp srp_lookups_data/srp_lemma_lookup.json spacy-lookups-data/spacy_lookups_data/data/srp_lemma_lookup.json\n",
    "\n",
    "!cd spacy-lookups-data/\n",
    "!pip install -e . --force-reinstall\n",
    "!cd ..\n",
    "\n",
    "!mkdir models"
   ]
  },
  {
   "cell_type": "code",
   "execution_count": 18,
   "metadata": {},
   "outputs": [
    {
     "name": "stdout",
     "output_type": "stream",
     "text": [
      "Obtaining file:///Users/davidlassner/code/spacy-serbian-pipeline/spacy-lookups-data\n",
      "Collecting setuptools\n",
      "  Using cached setuptools-51.3.3-py3-none-any.whl (786 kB)\n",
      "Installing collected packages: setuptools, spacy-lookups-data\n",
      "  Attempting uninstall: setuptools\n",
      "    Found existing installation: setuptools 51.0.0\n",
      "    Uninstalling setuptools-51.0.0:\n",
      "      Successfully uninstalled setuptools-51.0.0\n",
      "  Attempting uninstall: spacy-lookups-data\n",
      "    Found existing installation: spacy-lookups-data 1.0.0rc1\n",
      "    Uninstalling spacy-lookups-data-1.0.0rc1:\n",
      "      Successfully uninstalled spacy-lookups-data-1.0.0rc1\n",
      "  Running setup.py develop for spacy-lookups-data\n",
      "Successfully installed setuptools-51.3.3 spacy-lookups-data\n"
     ]
    }
   ],
   "source": [
    "!cp srp_lookups_data/srp_lemma_lookup.json spacy-lookups-data/spacy_lookups_data/data/srp_lemma_lookup.json\n",
    "!cd spacy-lookups-data/\n",
    "!pip install -e spacy-lookups-data"
   ]
  },
  {
   "cell_type": "code",
   "execution_count": 1,
   "metadata": {},
   "outputs": [
    {
     "name": "stdout",
     "output_type": "stream",
     "text": [
      "Obtaining file:///Users/davidlassner/code/spacy-serbian-pipeline\n",
      "Installing collected packages: srp\n",
      "  Attempting uninstall: srp\n",
      "    Found existing installation: srp 0.0.0\n",
      "    Uninstalling srp-0.0.0:\n",
      "      Successfully uninstalled srp-0.0.0\n",
      "  Running setup.py develop for srp\n",
      "Successfully installed srp\n"
     ]
    }
   ],
   "source": [
    "!pip install -e ."
   ]
  },
  {
   "cell_type": "code",
   "execution_count": 24,
   "metadata": {},
   "outputs": [
    {
     "name": "stdout",
     "output_type": "stream",
     "text": [
      "\u001b[38;5;4mℹ Grouping every 1 sentences into a document.\u001b[0m\n",
      "\u001b[38;5;3m⚠ To generate better training data, you may want to group sentences\n",
      "into documents with `-n 10`.\u001b[0m\n",
      "\u001b[38;5;2m✔ Generated output file (3328 documents):\n",
      "srp_training_data/sr_set-ud-train.spacy\u001b[0m\n",
      "\u001b[38;5;4mℹ Grouping every 1 sentences into a document.\u001b[0m\n",
      "\u001b[38;5;3m⚠ To generate better training data, you may want to group sentences\n",
      "into documents with `-n 10`.\u001b[0m\n",
      "\u001b[38;5;2m✔ Generated output file (536 documents):\n",
      "srp_training_data/sr_set-ud-dev.spacy\u001b[0m\n",
      "\u001b[38;5;4mℹ Grouping every 1 sentences into a document.\u001b[0m\n",
      "\u001b[38;5;3m⚠ To generate better training data, you may want to group sentences\n",
      "into documents with `-n 10`.\u001b[0m\n",
      "\u001b[38;5;2m✔ Generated output file (520 documents):\n",
      "srp_training_data/sr_set-ud-test.spacy\u001b[0m\n"
     ]
    }
   ],
   "source": [
    "!python3 -m spacy convert UD_Serbian_Cyrl-SET/sr_set-ud-train.conllu  srp_training_data\n",
    "!python3 -m spacy convert UD_Serbian_Cyrl-SET/sr_set-ud-dev.conllu  srp_training_data\n",
    "!python3 -m spacy convert UD_Serbian_Cyrl-SET/sr_set-ud-test.conllu  srp_training_data"
   ]
  },
  {
   "cell_type": "code",
   "execution_count": 2,
   "metadata": {},
   "outputs": [
    {
     "name": "stdout",
     "output_type": "stream",
     "text": [
      "\u001b[38;5;2m✔ Auto-filled config with all values\u001b[0m\n",
      "\u001b[38;5;2m✔ Saved config\u001b[0m\n",
      "config.cfg\n",
      "You can now add your data and train your pipeline:\n",
      "python -m spacy train config.cfg --paths.train ./train.spacy --paths.dev ./dev.spacy\n",
      "\u001b[38;5;4mℹ Using CPU\u001b[0m\n",
      "\u001b[1m\n",
      "=========================== Initializing pipeline ===========================\u001b[0m\n",
      "^C\n",
      "\n",
      "Aborted!\n"
     ]
    }
   ],
   "source": [
    "!python3 -m spacy init fill-config base_config.cfg config.cfg\n",
    "!python3 -m spacy train config.cfg --output models/srp"
   ]
  },
  {
   "cell_type": "code",
   "execution_count": 3,
   "metadata": {},
   "outputs": [
    {
     "name": "stdout",
     "output_type": "stream",
     "text": [
      "Obtaining file:///Users/davidlassner/code/spacy-serbian-pipeline\n",
      "Installing collected packages: srp\n",
      "  Attempting uninstall: srp\n",
      "    Found existing installation: srp 0.0.0\n",
      "    Uninstalling srp-0.0.0:\n",
      "      Successfully uninstalled srp-0.0.0\n",
      "  Running setup.py develop for srp\n",
      "Successfully installed srp\n"
     ]
    }
   ],
   "source": [
    "!pip install -e . --force-reinstall\n",
    "from srp import make_lemmatizer"
   ]
  },
  {
   "cell_type": "markdown",
   "metadata": {},
   "source": [
    "import spacy\n",
    "\n",
    "nlp = spacy.load(\"models/srp/model-best\", disable=[\"ner\"])\n",
    "\n",
    "doc = nlp('На отварању БЕМУС-а је требало да учествују нпр. Марта Аргерич и неколико ди-џејева.')\n",
    "\n",
    "print(f\"{'ТОКЕN':<20}{'POS':<8}{'TAG':<15}{'LEMMA':<15}{'NORM':<15}\")\n",
    "print(f\"{'¯¯¯¯¯':<20}{'¯¯¯':<8}{'¯¯¯':<15}{'¯¯¯¯¯':<15}{'¯¯¯¯':<15}\")\n",
    "\n",
    "for token in doc:\n",
    "    token_orth = token.orth_\n",
    "    token_lemma = token.lemma_\n",
    "    token_pos = token.pos_\n",
    "    token_tag = token.tag_\n",
    "    token_norm = token.norm_\n",
    "    print(f\"{token_orth:<20}{token_pos:<8}{token_tag:<15}{token_lemma:<15}{token_norm:<15}\")"
   ]
  }
 ],
 "metadata": {
  "kernelspec": {
   "display_name": "wh",
   "language": "python",
   "name": "wh"
  },
  "language_info": {
   "codemirror_mode": {
    "name": "ipython",
    "version": 3
   },
   "file_extension": ".py",
   "mimetype": "text/x-python",
   "name": "python",
   "nbconvert_exporter": "python",
   "pygments_lexer": "ipython3",
   "version": "3.8.6"
  }
 },
 "nbformat": 4,
 "nbformat_minor": 4
}
