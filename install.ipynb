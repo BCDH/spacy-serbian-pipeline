{
 "cells": [
  {
   "cell_type": "code",
   "execution_count": null,
   "metadata": {},
   "outputs": [],
   "source": [
    "rm -rf env\n",
    "python3 -m venv env\n",
    "source env/bin/activate\n",
    "pip install pip setuptools wheel\n",
    "\n",
    "echo \"Install spacy...\"\n",
    "pip install spacy-nightly --pre\n",
    "\n",
    "echo \"Installing lookups data...\"\n",
    "\n",
    "git clone https://github.com/explosion/spacy-lookups-data.git\n",
    "\n",
    "cp sr_lookups_data/sr_lemma_lookup.json spacy-lookups-data/spacy_lookups_data/data/srp_lemma_lookup.json\n",
    "\n",
    "cd spacy-lookups-data/\n",
    "pip install -e .\n",
    "cd ..\n",
    "\n",
    "mkdir models\n",
    "python3 -m spacy init fill-config base_config.cfg config.cfg\n",
    "python3 -m spacy train config.cfg --output models/srp\n",
    "\n",
    "# python play3.srp.py"
   ]
  }
 ],
 "metadata": {
  "kernelspec": {
   "display_name": "wh",
   "language": "python",
   "name": "wh"
  },
  "language_info": {
   "codemirror_mode": {
    "name": "ipython",
    "version": 3
   },
   "file_extension": ".py",
   "mimetype": "text/x-python",
   "name": "python",
   "nbconvert_exporter": "python",
   "pygments_lexer": "ipython3",
   "version": "3.8.6"
  }
 },
 "nbformat": 4,
 "nbformat_minor": 4
}
